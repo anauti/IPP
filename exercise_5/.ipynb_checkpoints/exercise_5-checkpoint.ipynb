{
 "cells": [
  {
   "cell_type": "markdown",
   "metadata": {},
   "source": [
    "# LO vs. NLO simulation "
   ]
  },
  {
   "cell_type": "markdown",
   "metadata": {},
   "source": [
    "In this exercise we will get familiar with leadin order (LO) and next-to-leading order (NLO) simulation. As you might know, beyond the tree level things can get messy. The NLO Feynman diagrams need to be taken into account and for instance the cross section calculation becomes harder. As we will see, things change for the experimentalists as well. \n",
    "\n",
    "Your task this week is to analyse two datasets. One is a ttbar process simulated in LO and the other is a ttbar process in NLO. These simulations have been made in the framework of CMS detector by following the circumstances of 2016 data taking. This means that we are looking at proton-proton collisions with \\sqrt{s} = 13TeV center-of-mass energy. \n",
    "\n",
    "IMPORTANT: You will need to take into account that the NLO simulation has negative weights! The negative weights are an artifact of the crossection calculation. There some terms get a negative weight from a fermion loop. \n",
    "\n",
    "The weight assigned to and event can be found from a variable called 'GenWeight'.\n",
    "When normalising the histograms, take into account that the datasets have different amount of events. \n",
    "Use the number of events that you get after taking into account the negative weights.\n",
    "\n",
    "In the normalisation use need to know the theoretical crossection of the process. So if we asume the mass of the top quark to be 172.5 GeV.\n",
    "The latest calculated theoretical cross section is 831.76 pb.\n",
    "\n",
    "Your task is now to:\n",
    "\n",
    "1) Read the data sets\n",
    "\n",
    "2) Impose cuts in few variables \n",
    "\n",
    "3) Plot the variables of interest \n",
    "\n",
    "4) Study the differences between LO and NLO simulation\n",
    "\n",
    "5) After that we study b jets\n",
    "\n",
    "6) Impose identification criteria on jets\n",
    "\n",
    "7) Tag b jets\n",
    "\n",
    "\n",
    "In this exercise we are studying jets. Jets are collimated sprays of hadrons. The difference of LO and NLO can be seen for instance in the jet distributions. Use the variables 'jets_MC' in your jet studies. \n",
    "\n",
    "We have so far used csv files in our studies. In particle physics however we use quite a lot of .root files. Therefore we will get familiat with .root files in this exercise as well.  \n",
    "\n"
   ]
  },
  {
   "cell_type": "code",
   "execution_count": 4,
   "metadata": {
    "scrolled": true
   },
   "outputs": [
    {
     "ename": "ImportError",
     "evalue": "No module named matplotlib.pyplot",
     "output_type": "error",
     "traceback": [
      "\u001b[0;31m---------------------------------------------------------------------------\u001b[0m",
      "\u001b[0;31mImportError\u001b[0m                               Traceback (most recent call last)",
      "\u001b[0;32m<ipython-input-4-4bab9967179a>\u001b[0m in \u001b[0;36m<module>\u001b[0;34m()\u001b[0m\n\u001b[1;32m      3\u001b[0m \u001b[0;32mimport\u001b[0m \u001b[0mpandas\u001b[0m \u001b[0;32mas\u001b[0m \u001b[0mpd\u001b[0m\u001b[0;34m\u001b[0m\u001b[0m\n\u001b[1;32m      4\u001b[0m \u001b[0;32mimport\u001b[0m \u001b[0mnumpy\u001b[0m \u001b[0;32mas\u001b[0m \u001b[0mnp\u001b[0m\u001b[0;34m\u001b[0m\u001b[0m\n\u001b[0;32m----> 5\u001b[0;31m \u001b[0;32mimport\u001b[0m \u001b[0mmatplotlib\u001b[0m\u001b[0;34m.\u001b[0m\u001b[0mpyplot\u001b[0m \u001b[0;32mas\u001b[0m \u001b[0mplt\u001b[0m\u001b[0;34m\u001b[0m\u001b[0m\n\u001b[0m\u001b[1;32m      6\u001b[0m \u001b[0;34m\u001b[0m\u001b[0m\n\u001b[1;32m      7\u001b[0m \u001b[0;31m#import ROOT\u001b[0m\u001b[0;34m\u001b[0m\u001b[0;34m\u001b[0m\u001b[0m\n",
      "\u001b[0;31mImportError\u001b[0m: No module named matplotlib.pyplot"
     ]
    }
   ],
   "source": [
    "%matplotlib inline\n",
    "import pandas as pd\n",
    "import numpy as np\n",
    "import matplotlib.pyplot as plt\n",
    "import ROOT\n",
    "\n",
    "# Read the data sets tt_LO.csv and tt_NLO.csv from the 'Data' folder\n",
    "\n",
    "f_NLO = ROOT.TFile.Open('../Data/tt_NLO.root', 'read')\n",
    "\n",
    "tree_NLO = f_NLO.Get('Events')\n",
    "\n",
    "f_LO = ROOT.TFile.Open('../Data/tt_LO.root', 'read')\n",
    "\n",
    "tree_LO = f_LO.Get('Events')\n",
    "\n",
    " \n",
    "#Here is an example how to loop over jets in all the collision events\n",
    "\n",
    "#pts = []\n",
    "#number_of_jets = []\n",
    "#weights = []\n",
    "\n",
    "#for events in tree:\n",
    "#  jets_pt = events.Jets_pt_MCjet\n",
    "#  gen_weight = events.GenWeight\n",
    "#  weights.append(gen_weight)\n",
    "#  i = 0\n",
    "#  for pt in jets_pt:\n",
    "#    i = i+1\n",
    "#    pts.append(pt)\n",
    "#  number_of_jets.append(i)\n",
    "\n",
    "\n",
    "# Cut both LO and NLO data sets so that \n",
    "\n",
    "# # MC Jets_eta > -2.1 and MC Jets_eta < 2.1     (the variable is Jets_eta_MCjet)\n",
    "\n",
    "#\n",
    "\n",
    "# # MC Jets_pt > 30 (the variable is Jets_pt_MCjet)\n",
    "\n",
    "#\n",
    "\n",
    "#\n",
    "\n",
    "# Plot the variables of interest for both datasets\n",
    "\n",
    "# Remember to normalise the histograms using the 'GenWeight' variable and number of events\n",
    "\n",
    "# # Plot number of MC jets in each event. Plot the histograms of the LO and NLO in the same picture\n",
    "\n",
    "#\n",
    "\n",
    "# # Plot the selected MC jet pT. Plot the histograms of the LO and NLO in the same picture\n",
    "\n",
    "#\n",
    "\n",
    "# Describe the differences \n",
    "\n",
    "# # What would happen if you impose a cut in the number of selected jets in an event?\n",
    "\n",
    "\n",
    "\n",
    "\n"
   ]
  },
  {
   "cell_type": "markdown",
   "metadata": {},
   "source": [
    "# Question 1 "
   ]
  },
  {
   "cell_type": "markdown",
   "metadata": {},
   "source": [
    "Describe the differences between jet pt and number of jets. What would happen if you impose a cut in the number of selected jets in an event?"
   ]
  },
  {
   "cell_type": "code",
   "execution_count": null,
   "metadata": {},
   "outputs": [],
   "source": []
  },
  {
   "cell_type": "markdown",
   "metadata": {},
   "source": [
    "Lets now study b jets. B jets are jets that originate from a b quark. We have developped a tagger or a discriminator that tells us how likely it is that a jet is indeed a b jet. \n",
    "\n",
    "Your next task is to use the tt_LO.root data set. Read the data set in as in the previous part and loop over Jets. Then impose acut in eta and pt. After that you can cut away jets that have 'Jets_IDloose' == 0.  This makes sure that the jets we select are identified. \n",
    "\n",
    "Your final step is to select b jets from these jets. Use 'pfCombinedInclusiveSecondaryVertexV2BJetTags' > 0.8484. In other words, b jets are the jets where the value of the discriminator variable 'pfCombinedInclusiveSecondaryVertexV2BJetTags'is higher than 0.8484.\n",
    "\n",
    "Your final task then to plot the number of selected b jets in each event\n"
   ]
  },
  {
   "cell_type": "code",
   "execution_count": null,
   "metadata": {},
   "outputs": [],
   "source": [
    "%matplotlib inline\n",
    "import pandas as pd\n",
    "import numpy as np\n",
    "import matplotlib.pyplot as plt\n",
    "import ROOT\n",
    "\n",
    "f_LO = ROOT.TFile.Open('../Data/tt_LO.root', 'read')\n",
    "\n",
    "tree_LO = f_LO.Get('Events')\n",
    "\n",
    "#for events in tree:\n",
    "#  jets_pt = events.Jets_pt\n",
    "#  gen_weight = events.GenWeight\n",
    "#  weights.append(gen_weight)\n",
    "#  i = 0\n",
    "#  for pt in jets_pt:\n",
    "#    i = i+1\n",
    "#    pts.append(pt)\n",
    "#  number_of.append(i)\n",
    "# ....\n",
    "\n",
    "\n",
    "\n",
    "# impose cuts for the events in the tt_LO.root : \n",
    "\n",
    "# # Jets_eta > -2.1 and Jets_eta < 2.1     (the variable is Jets_eta)\n",
    "\n",
    "#\n",
    "\n",
    "# # Jets_pt > 30 (the variable is Jets_pt)\n",
    "\n",
    "#\n",
    "\n",
    "# # Jets_IDloose == 1 (the variable is Jets_IDloose)\n",
    "\n",
    "#\n",
    "\n",
    "# # pfCombinedInclusiveSecondaryVertexV2BJetTags > 0.8484 (variable is pfCombinedInclusiveSecondaryVertexV2BJetTags)\n",
    "\n",
    "#\n",
    "\n",
    "# Finally plot the number of selected b jets in each event"
   ]
  }
 ],
 "metadata": {
  "kernelspec": {
   "display_name": "Python 2",
   "language": "python",
   "name": "python2"
  },
  "language_info": {
   "codemirror_mode": {
    "name": "ipython",
    "version": 2
   },
   "file_extension": ".py",
   "mimetype": "text/x-python",
   "name": "python",
   "nbconvert_exporter": "python",
   "pygments_lexer": "ipython2",
   "version": "2.7.15"
  }
 },
 "nbformat": 4,
 "nbformat_minor": 2
}
